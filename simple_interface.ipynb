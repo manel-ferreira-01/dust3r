{
 "cells": [
  {
   "cell_type": "code",
   "execution_count": 1,
   "metadata": {},
   "outputs": [
    {
     "name": "stderr",
     "output_type": "stream",
     "text": [
      "/usr/local/lib/python3.10/dist-packages/tqdm/auto.py:21: TqdmWarning: IProgress not found. Please update jupyter and ipywidgets. See https://ipywidgets.readthedocs.io/en/stable/user_install.html\n",
      "  from .autonotebook import tqdm as notebook_tqdm\n"
     ]
    },
    {
     "name": "stdout",
     "output_type": "stream",
     "text": [
      "Warning, cannot find cuda-compiled version of RoPE2D, using a slow pytorch version instead\n"
     ]
    }
   ],
   "source": [
    "import argparse\n",
    "import math\n",
    "import builtins\n",
    "import datetime\n",
    "import gradio\n",
    "import os\n",
    "import torch\n",
    "import numpy as np\n",
    "import functools\n",
    "import trimesh\n",
    "import copy\n",
    "from scipy.spatial.transform import Rotation\n",
    "\n",
    "from dust3r.inference import inference\n",
    "from dust3r.image_pairs import make_pairs\n",
    "from dust3r.utils.image import load_images, rgb\n",
    "from dust3r.utils.device import to_numpy\n",
    "from dust3r.viz import add_scene_cam, CAM_COLORS, OPENGL, pts3d_to_trimesh, cat_meshes\n",
    "from dust3r.cloud_opt import global_aligner, GlobalAlignerMode\n",
    "\n",
    "import matplotlib.pyplot as pl\n",
    "\n",
    "from dust3r.demo import get_reconstructed_scene, get_3D_model_from_scene\n",
    "from dust3r.model import AsymmetricCroCo3DStereo"
   ]
  },
  {
   "cell_type": "code",
   "execution_count": 2,
   "metadata": {},
   "outputs": [
    {
     "name": "stdout",
     "output_type": "stream",
     "text": [
      "... loading model from ./docker/files/checkpoints/DUSt3R_ViTLarge_BaseDecoder_512_dpt.pth\n",
      "instantiating : AsymmetricCroCo3DStereo(enc_depth=24, dec_depth=12, enc_embed_dim=1024, dec_embed_dim=768, enc_num_heads=16, dec_num_heads=12, pos_embed='RoPE100', patch_embed_cls='PatchEmbedDust3R', img_size=(512, 512), head_type='dpt', output_mode='pts3d', depth_mode=('exp', -inf, inf), conf_mode=('exp', 1, inf), landscape_only=False)\n",
      "<All keys matched successfully>\n"
     ]
    }
   ],
   "source": [
    "outdir = \"output\"\n",
    "device = \"cuda\"\n",
    "silent = False\n",
    "image_size = 512\n",
    "filelist = \"./images_in\"\n",
    "schedule = \"linear\" # or \"cosine\"\n",
    "niter = 300 # number of iters\n",
    "min_conf_thr = 3\n",
    "as_pointcloud = True\n",
    "mask_sky = False\n",
    "clean_depth = True\n",
    "transparent_cams = False\n",
    "cam_size = 0.05\n",
    "scenegraph_type = \"complete\"\n",
    "winsize = 1\n",
    "refid = 0\n",
    "\n",
    "model = AsymmetricCroCo3DStereo.from_pretrained(\"./docker/files/checkpoints/DUSt3R_ViTLarge_BaseDecoder_512_dpt.pth\").to(device)\n"
   ]
  },
  {
   "cell_type": "code",
   "execution_count": 3,
   "metadata": {},
   "outputs": [
    {
     "name": "stdout",
     "output_type": "stream",
     "text": [
      ">> Loading images from ./images_in\n",
      " - adding 0.png with resolution 640x512 --> 512x400\n",
      " - adding 1.png with resolution 640x512 --> 512x400\n",
      " - adding 2.png with resolution 640x512 --> 512x400\n",
      " - adding 3.png with resolution 640x512 --> 512x400\n",
      " - adding 4.png with resolution 640x512 --> 512x400\n",
      " - adding 5.png with resolution 640x512 --> 512x400\n",
      " - adding 6.png with resolution 640x512 --> 512x400\n",
      " - adding 7.png with resolution 640x512 --> 512x400\n",
      " - adding 8.png with resolution 640x512 --> 512x400\n",
      " - adding 9.png with resolution 640x512 --> 512x400\n",
      " (Found 10 images)\n",
      ">> Inference with model on 90 image pairs\n"
     ]
    },
    {
     "name": "stderr",
     "output_type": "stream",
     "text": [
      "100%|███████████████████████████████████████████████████████████████████████████████████| 90/90 [01:08<00:00,  1.31it/s]\n"
     ]
    },
    {
     "name": "stdout",
     "output_type": "stream",
     "text": [
      " init edge (1*,0*) score=77.61289978027344\n",
      " init edge (1,7*) score=46.66046905517578\n",
      " init edge (1,3*) score=45.55316162109375\n",
      " init edge (2*,3) score=40.528236389160156\n",
      " init edge (2,6*) score=66.45589447021484\n",
      " init edge (2,9*) score=57.878299713134766\n",
      " init edge (8*,6) score=51.02920150756836\n",
      " init edge (2,5*) score=43.53687286376953\n",
      " init edge (2,4*) score=42.88144302368164\n",
      " init loss = 0.014015794731676579\n",
      "Global alignement - optimizing for:\n",
      "['pw_poses', 'im_depthmaps', 'im_poses', 'im_focals']\n"
     ]
    },
    {
     "name": "stderr",
     "output_type": "stream",
     "text": [
      "100%|████████████████████████████████████████████████████| 300/300 [01:40<00:00,  3.00it/s, lr=3.433e-05 loss=0.0077132]\n"
     ]
    }
   ],
   "source": [
    "scene, pts3d, rgbimg, cams2world, confs = get_reconstructed_scene(outdir, model, device, silent, image_size, filelist, schedule, niter, min_conf_thr,\n",
    "                            as_pointcloud, mask_sky, clean_depth, transparent_cams, cam_size,\n",
    "                            scenegraph_type, winsize, refid)\n"
   ]
  },
  {
   "cell_type": "code",
   "execution_count": 16,
   "metadata": {},
   "outputs": [],
   "source": [
    "mask = to_numpy(scene.get_masks())\n",
    "\n",
    "pts3d = to_numpy(pts3d)\n",
    "\n",
    "\n",
    "pts = np.concatenate([p[m] for p, m in zip(pts3d, mask)])\n",
    "col = np.concatenate([p[m] for p, m in zip(rgbimg, mask)])\n",
    "conf = np.concatenate([p[m] for p, m in zip(confs, mask)])\n",
    "\n",
    "np.savetxt(\"./output/out.csv\",np.hstack((pts, col, conf)), delimiter=\",\")\n",
    "\n",
    "for i in range(0,len(cams2world)):\n",
    "    np.savetxt(\"./output/\"+str(i)+\".csv\", to_numpy(cams2world[i]))\n"
   ]
  },
  {
   "cell_type": "code",
   "execution_count": 19,
   "metadata": {
    "scrolled": false
   },
   "outputs": [
    {
     "ename": "OSError",
     "evalue": "libX11.so.6: cannot open shared object file: No such file or directory",
     "output_type": "error",
     "traceback": [
      "\u001b[0;31m---------------------------------------------------------------------------\u001b[0m",
      "\u001b[0;31mOSError\u001b[0m                                   Traceback (most recent call last)",
      "Cell \u001b[0;32mIn[19], line 1\u001b[0m\n\u001b[0;32m----> 1\u001b[0m \u001b[38;5;28;01mimport\u001b[39;00m \u001b[38;5;21;01mopen3d\u001b[39;00m \u001b[38;5;28;01mas\u001b[39;00m \u001b[38;5;21;01mo3d\u001b[39;00m\n",
      "File \u001b[0;32m/usr/local/lib/python3.10/dist-packages/open3d/__init__.py:61\u001b[0m\n\u001b[1;32m     57\u001b[0m \u001b[38;5;28;01mif\u001b[39;00m _build_config[\u001b[38;5;124m\"\u001b[39m\u001b[38;5;124mBUILD_CUDA_MODULE\u001b[39m\u001b[38;5;124m\"\u001b[39m]:\n\u001b[1;32m     58\u001b[0m     \u001b[38;5;66;03m# Load CPU pybind dll gracefully without introducing new python variable.\u001b[39;00m\n\u001b[1;32m     59\u001b[0m     \u001b[38;5;66;03m# Do this before loading the CUDA pybind dll to correctly resolve symbols\u001b[39;00m\n\u001b[1;32m     60\u001b[0m     \u001b[38;5;28;01mtry\u001b[39;00m:  \u001b[38;5;66;03m# StopIteration if cpu version not available\u001b[39;00m\n\u001b[0;32m---> 61\u001b[0m         \u001b[43mload_cdll\u001b[49m\u001b[43m(\u001b[49m\u001b[38;5;28;43mstr\u001b[39;49m\u001b[43m(\u001b[49m\u001b[38;5;28;43mnext\u001b[39;49m\u001b[43m(\u001b[49m\u001b[43m(\u001b[49m\u001b[43mPath\u001b[49m\u001b[43m(\u001b[49m\u001b[38;5;18;43m__file__\u001b[39;49m\u001b[43m)\u001b[49m\u001b[38;5;241;43m.\u001b[39;49m\u001b[43mparent\u001b[49m\u001b[43m \u001b[49m\u001b[38;5;241;43m/\u001b[39;49m\u001b[43m \u001b[49m\u001b[38;5;124;43m\"\u001b[39;49m\u001b[38;5;124;43mcpu\u001b[39;49m\u001b[38;5;124;43m\"\u001b[39;49m\u001b[43m)\u001b[49m\u001b[38;5;241;43m.\u001b[39;49m\u001b[43mglob\u001b[49m\u001b[43m(\u001b[49m\u001b[38;5;124;43m\"\u001b[39;49m\u001b[38;5;124;43mpybind*\u001b[39;49m\u001b[38;5;124;43m\"\u001b[39;49m\u001b[43m)\u001b[49m\u001b[43m)\u001b[49m\u001b[43m)\u001b[49m\u001b[43m)\u001b[49m\n\u001b[1;32m     62\u001b[0m     \u001b[38;5;28;01mexcept\u001b[39;00m \u001b[38;5;167;01mStopIteration\u001b[39;00m:\n\u001b[1;32m     63\u001b[0m         warnings\u001b[38;5;241m.\u001b[39mwarn(\n\u001b[1;32m     64\u001b[0m             \u001b[38;5;124m\"\u001b[39m\u001b[38;5;124mOpen3D was built with CUDA support, but Open3D CPU Python \u001b[39m\u001b[38;5;124m\"\u001b[39m\n\u001b[1;32m     65\u001b[0m             \u001b[38;5;124m\"\u001b[39m\u001b[38;5;124mbindings were not found. Open3D will not work on systems without\u001b[39m\u001b[38;5;124m\"\u001b[39m\n\u001b[1;32m     66\u001b[0m             \u001b[38;5;124m\"\u001b[39m\u001b[38;5;124m CUDA devices.\u001b[39m\u001b[38;5;124m\"\u001b[39m, \u001b[38;5;167;01mImportWarning\u001b[39;00m)\n",
      "File \u001b[0;32m/usr/local/lib/python3.10/dist-packages/open3d/__init__.py:38\u001b[0m, in \u001b[0;36mload_cdll\u001b[0;34m(path)\u001b[0m\n\u001b[1;32m     36\u001b[0m     \u001b[38;5;28;01mreturn\u001b[39;00m CDLL(\u001b[38;5;28mstr\u001b[39m(path), winmode\u001b[38;5;241m=\u001b[39m\u001b[38;5;241m0\u001b[39m)\n\u001b[1;32m     37\u001b[0m \u001b[38;5;28;01melse\u001b[39;00m:\n\u001b[0;32m---> 38\u001b[0m     \u001b[38;5;28;01mreturn\u001b[39;00m \u001b[43mCDLL\u001b[49m\u001b[43m(\u001b[49m\u001b[38;5;28;43mstr\u001b[39;49m\u001b[43m(\u001b[49m\u001b[43mpath\u001b[49m\u001b[43m)\u001b[49m\u001b[43m)\u001b[49m\n",
      "File \u001b[0;32m/usr/lib/python3.10/ctypes/__init__.py:374\u001b[0m, in \u001b[0;36mCDLL.__init__\u001b[0;34m(self, name, mode, handle, use_errno, use_last_error, winmode)\u001b[0m\n\u001b[1;32m    371\u001b[0m \u001b[38;5;28mself\u001b[39m\u001b[38;5;241m.\u001b[39m_FuncPtr \u001b[38;5;241m=\u001b[39m _FuncPtr\n\u001b[1;32m    373\u001b[0m \u001b[38;5;28;01mif\u001b[39;00m handle \u001b[38;5;129;01mis\u001b[39;00m \u001b[38;5;28;01mNone\u001b[39;00m:\n\u001b[0;32m--> 374\u001b[0m     \u001b[38;5;28mself\u001b[39m\u001b[38;5;241m.\u001b[39m_handle \u001b[38;5;241m=\u001b[39m \u001b[43m_dlopen\u001b[49m\u001b[43m(\u001b[49m\u001b[38;5;28;43mself\u001b[39;49m\u001b[38;5;241;43m.\u001b[39;49m\u001b[43m_name\u001b[49m\u001b[43m,\u001b[49m\u001b[43m \u001b[49m\u001b[43mmode\u001b[49m\u001b[43m)\u001b[49m\n\u001b[1;32m    375\u001b[0m \u001b[38;5;28;01melse\u001b[39;00m:\n\u001b[1;32m    376\u001b[0m     \u001b[38;5;28mself\u001b[39m\u001b[38;5;241m.\u001b[39m_handle \u001b[38;5;241m=\u001b[39m handle\n",
      "\u001b[0;31mOSError\u001b[0m: libX11.so.6: cannot open shared object file: No such file or directory"
     ]
    }
   ],
   "source": [
    "import open3d as o3d"
   ]
  }
 ],
 "metadata": {
  "kernelspec": {
   "display_name": "Python 3 (ipykernel)",
   "language": "python",
   "name": "python3"
  },
  "language_info": {
   "codemirror_mode": {
    "name": "ipython",
    "version": 3
   },
   "file_extension": ".py",
   "mimetype": "text/x-python",
   "name": "python",
   "nbconvert_exporter": "python",
   "pygments_lexer": "ipython3",
   "version": "3.10.12"
  }
 },
 "nbformat": 4,
 "nbformat_minor": 2
}
