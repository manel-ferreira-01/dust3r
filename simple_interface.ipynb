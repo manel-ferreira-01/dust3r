{
 "cells": [
  {
   "cell_type": "code",
   "execution_count": 3,
   "metadata": {},
   "outputs": [],
   "source": [
    "import argparse\n",
    "import math\n",
    "import builtins\n",
    "import datetime\n",
    "import gradio\n",
    "import os\n",
    "import torch\n",
    "import numpy as np\n",
    "import functools\n",
    "import trimesh\n",
    "import copy\n",
    "from scipy.spatial.transform import Rotation\n",
    "\n",
    "from dust3r.inference import inference\n",
    "from dust3r.image_pairs import make_pairs\n",
    "from dust3r.utils.image import load_images, rgb\n",
    "from dust3r.utils.device import to_numpy\n",
    "from dust3r.viz import add_scene_cam, CAM_COLORS, OPENGL, pts3d_to_trimesh, cat_meshes\n",
    "from dust3r.cloud_opt import global_aligner, GlobalAlignerMode\n",
    "\n",
    "import matplotlib.pyplot as pl\n",
    "\n",
    "from dust3r.demo import get_reconstructed_scene, get_3D_model_from_scene\n",
    "from dust3r.model import AsymmetricCroCo3DStereo"
   ]
  },
  {
   "cell_type": "code",
   "execution_count": 2,
   "metadata": {},
   "outputs": [
    {
     "name": "stdout",
     "output_type": "stream",
     "text": [
      "... loading model from ./docker/files/checkpoints/DUSt3R_ViTLarge_BaseDecoder_512_dpt.pth\n",
      "instantiating : AsymmetricCroCo3DStereo(enc_depth=24, dec_depth=12, enc_embed_dim=1024, dec_embed_dim=768, enc_num_heads=16, dec_num_heads=12, pos_embed='RoPE100', patch_embed_cls='PatchEmbedDust3R', img_size=(512, 512), head_type='dpt', output_mode='pts3d', depth_mode=('exp', -inf, inf), conf_mode=('exp', 1, inf), landscape_only=False)\n",
      "<All keys matched successfully>\n"
     ]
    }
   ],
   "source": [
    "outdir = \"output\"\n",
    "device = \"cuda\"\n",
    "silent = False\n",
    "image_size = 512\n",
    "filelist = \"./images_in\"\n",
    "schedule = \"linear\" # or \"cosine\"\n",
    "niter = 300 # number of iters\n",
    "min_conf_thr = 3\n",
    "as_pointcloud = True\n",
    "mask_sky = False\n",
    "clean_depth = True\n",
    "transparent_cams = False\n",
    "cam_size = 0.05\n",
    "scenegraph_type = \"complete\"\n",
    "winsize = 1\n",
    "refid = 0\n",
    "\n",
    "model = AsymmetricCroCo3DStereo.from_pretrained(\"./docker/files/checkpoints/DUSt3R_ViTLarge_BaseDecoder_512_dpt.pth\").to(device)\n"
   ]
  },
  {
   "cell_type": "code",
   "execution_count": 4,
   "metadata": {},
   "outputs": [
    {
     "name": "stdout",
     "output_type": "stream",
     "text": [
      ">> Loading images from ./images_in\n",
      " - adding Screenshot 2024-09-25 232957.png with resolution 183x357 --> 256x512\n",
      " (Found 1 images)\n",
      ">> Inference with model on 2 image pairs\n"
     ]
    },
    {
     "name": "stderr",
     "output_type": "stream",
     "text": [
      "100%|████████████████████████████████████████████████████████████████████████████████████████████████| 2/2 [00:01<00:00,  1.09it/s]\n"
     ]
    },
    {
     "name": "stdout",
     "output_type": "stream",
     "text": [
      "  - conf=6.43 for edge 0-1\n",
      "  - conf=6.43 for edge 1-0\n"
     ]
    }
   ],
   "source": [
    "scene, pts3d, rgbimg, cams2world, confs = get_reconstructed_scene(outdir, model, device, silent, image_size, filelist, schedule, niter, min_conf_thr,\n",
    "                            as_pointcloud, mask_sky, clean_depth, transparent_cams, cam_size,\n",
    "                            scenegraph_type, winsize, refid)\n"
   ]
  },
  {
   "cell_type": "code",
   "execution_count": 14,
   "metadata": {},
   "outputs": [],
   "source": [
    "mask = to_numpy(scene.get_masks())\n",
    "\n",
    "pts3d = to_numpy(pts3d)\n",
    "\n",
    "\n",
    "pts = np.concatenate([p[m] for p, m in zip(pts3d, mask)])\n",
    "col = np.concatenate([p[m] for p, m in zip(rgbimg, mask)])\n",
    "conf = np.concatenate([p[m] for p, m in zip(confs, mask)])\n",
    "\n",
    "np.savetxt(\"./output/out.csv\",np.hstack((pts, col, conf)), delimiter=\",\")\n"
   ]
  },
  {
   "cell_type": "code",
   "execution_count": 12,
   "metadata": {},
   "outputs": [
    {
     "name": "stdout",
     "output_type": "stream",
     "text": [
      "LICENSE\t\t     docker\t       requirements_optional.txt\r\n",
      "NOTICE\t\t     dust3r\t       simple_interface.ipynb\r\n",
      "README.md\t     dust3r_visloc     simple_interface.py\r\n",
      "assets\t\t     images_in\t       train.py\r\n",
      "croco\t\t     old_README.md     visloc.py\r\n",
      "datasets_preprocess  output\r\n",
      "demo.py\t\t     requirements.txt\r\n"
     ]
    }
   ],
   "source": []
  }
 ],
 "metadata": {
  "kernelspec": {
   "display_name": "Python 3 (ipykernel)",
   "language": "python",
   "name": "python3"
  },
  "language_info": {
   "codemirror_mode": {
    "name": "ipython",
    "version": 3
   },
   "file_extension": ".py",
   "mimetype": "text/x-python",
   "name": "python",
   "nbconvert_exporter": "python",
   "pygments_lexer": "ipython3",
   "version": "3.10.12"
  }
 },
 "nbformat": 4,
 "nbformat_minor": 2
}
